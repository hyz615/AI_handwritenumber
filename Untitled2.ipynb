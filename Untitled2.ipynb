{
 "cells": [
  {
   "cell_type": "code",
   "execution_count": 1,
   "id": "c8552ad1-dadb-4050-b2c3-496113ebeab6",
   "metadata": {},
   "outputs": [],
   "source": [
    "import numpy as np\n",
    "import scipy.special\n",
    "import dill"
   ]
  },
  {
   "cell_type": "code",
   "execution_count": 3,
   "id": "3f8c912d-6b46-4b88-a288-8f1f210af347",
   "metadata": {},
   "outputs": [],
   "source": [
    "class nn:\n",
    "    def __init__(self,srd,zjd,scd,lrate):\n",
    "        self.inodes=srd\n",
    "        self.hnodes=zjd\n",
    "        self.onodes=scd\n",
    "        self.lr=lrate\n",
    "        self.wih=np.random.rand(self.hnodes,self.inodes)-0.5\n",
    "        self.who=np.random.rand(self.onodes,self.hnodes)-0.5\n",
    "        self.activation_function=lambda\tx:scipy.special.expit(x)\n",
    "        pass\n",
    "    \n",
    "    def train(self, inputsss, targetsss):\n",
    "        inputs=np.array(inputsss, ndmin=2).T\n",
    "        targets=np.array(targetsss, ndmin=2).T\n",
    "        hiddenins=np.dot(self.wih, inputs)\n",
    "        hiddenous=self.activation_function(hiddenins)\n",
    "        finalins=np.dot(self.who, hiddenous)\n",
    "        finalous=self.activation_function(finalins)\n",
    "        outputers=targets - finalous\n",
    "        hiddeners=np.dot(self.who.T, outputers) \n",
    "        self.who+=self.lr * np.dot((outputers * finalous * (1.0 - finalous)), np.transpose(hiddenous))\n",
    "        self.wih+=self.lr * np.dot((hiddeners * hiddenous * (1.0 - hiddenous)), np.transpose(inputs))\n",
    "        pass\n",
    "    def query(self,inputs):\n",
    "        inputss=np.array(inputs,ndmin=2).T\n",
    "        hiinputs=np.dot(self.wih,inputss)\n",
    "        hioutputs=self.activation_function(hiinputs)\n",
    "        finalin=np.dot(self.who,hioutputs)\n",
    "        finalout=self.activation_function(finalin)\n",
    "        return finalout\n",
    "    def save(self, path):\n",
    "        obj = dill.dumps(self)\n",
    "        with open(path, \"wb\") as f:\n",
    "            f.write(obj)\n",
    "    def load(path):\n",
    "        try:\n",
    "            with open(path, \"rb\") as f:\n",
    "                obj = dill.load(f)\n",
    "            return obj\n",
    "        except (FileNotFoundError, EOFError, dill.UnpicklingError) as e:\n",
    "            print(f\"Error loading file: {e}\")\n",
    "            return None\n",
    "        "
   ]
  },
  {
   "cell_type": "code",
   "execution_count": 4,
   "id": "4649f479-5e3a-44c6-885d-d6ce148b8da3",
   "metadata": {},
   "outputs": [],
   "source": [
    "model=nn.load(\"threeminst.model\")"
   ]
  },
  {
   "cell_type": "code",
   "execution_count": 5,
   "id": "9b98a948-e591-42b9-bd0f-7e027e358975",
   "metadata": {},
   "outputs": [],
   "source": [
    "data=open(\"mnist_test.csv\")\n",
    "datas=data.readlines()\n",
    "data.close()\n",
    "all_values=datas[0].split(',')\n",
    "inputs=(np.asfarray(all_values[1:]) / 255.0 * 0.99) + 0.01"
   ]
  },
  {
   "cell_type": "code",
   "execution_count": 6,
   "id": "1a1f01fd-7fe8-4dbb-83b9-b8e1f9cd0044",
   "metadata": {},
   "outputs": [
    {
     "data": {
      "text/plain": [
       "array([[0.00928471],\n",
       "       [0.00870002],\n",
       "       [0.00668946],\n",
       "       [0.01339385],\n",
       "       [0.00546895],\n",
       "       [0.00911001],\n",
       "       [0.00352501],\n",
       "       [0.99235611],\n",
       "       [0.0272479 ],\n",
       "       [0.00234077]])"
      ]
     },
     "execution_count": 6,
     "metadata": {},
     "output_type": "execute_result"
    }
   ],
   "source": [
    "model.query(inputs)"
   ]
  },
  {
   "cell_type": "code",
   "execution_count": null,
   "id": "fc28d069-cdf3-48fc-bd7c-dc26bcb34275",
   "metadata": {},
   "outputs": [],
   "source": []
  }
 ],
 "metadata": {
  "kernelspec": {
   "display_name": "Python 3 (ipykernel)",
   "language": "python",
   "name": "python3"
  },
  "language_info": {
   "codemirror_mode": {
    "name": "ipython",
    "version": 3
   },
   "file_extension": ".py",
   "mimetype": "text/x-python",
   "name": "python",
   "nbconvert_exporter": "python",
   "pygments_lexer": "ipython3",
   "version": "3.10.16"
  }
 },
 "nbformat": 4,
 "nbformat_minor": 5
}
