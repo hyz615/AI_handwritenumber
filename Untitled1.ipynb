{
 "cells": [
  {
   "cell_type": "code",
   "execution_count": 1,
   "id": "aab25150-9365-4ef4-934c-4e14e1e07531",
   "metadata": {},
   "outputs": [],
   "source": [
    "import numpy as np\n",
    "import scipy.special\n",
    "import dill"
   ]
  },
  {
   "cell_type": "code",
   "execution_count": 2,
   "id": "f78aff9c-64ad-4aca-b0df-bfbc5be16710",
   "metadata": {},
   "outputs": [],
   "source": [
    "class nn:\n",
    "    def __init__(self,srd,zjd,scd,lrate):\n",
    "        self.inodes=srd\n",
    "        self.hnodes=zjd\n",
    "        self.onodes=scd\n",
    "        self.lr=lrate\n",
    "        self.wih=np.random.rand(self.hnodes,self.inodes)-0.5\n",
    "        self.who=np.random.rand(self.onodes,self.hnodes)-0.5\n",
    "        self.activation_function=lambda\tx:scipy.special.expit(x)\n",
    "        pass\n",
    "    \n",
    "    def train(self, inputsss, targetsss):\n",
    "        inputs = np.array(inputsss, ndmin=2).T\n",
    "        targets = np.array(targetsss, ndmin=2).T\n",
    "        hiddenins = np.dot(self.wih, inputs)\n",
    "        hiddenous = self.activation_function(hiddenins)\n",
    "        finalins = np.dot(self.who, hiddenous)\n",
    "        finalous = self.activation_function(finalins)\n",
    "        outputers = targets - finalous\n",
    "        hiddeners = np.dot(self.who.T, outputers) \n",
    "        self.who += self.lr * np.dot((outputers * finalous * (1.0 - finalous)), np.transpose(hiddenous))\n",
    "        self.wih += self.lr * np.dot((hiddeners * hiddenous * (1.0 - hiddenous)), np.transpose(inputs))\n",
    "        pass\n",
    "    def query(self,inputs):\n",
    "        inputss=np.array(inputs,ndmin=2).T\n",
    "        hiinputs=np.dot(self.wih,inputss)\n",
    "        hioutputs=self.activation_function(hiinputs)\n",
    "        finalin=np.dot(self.who,hioutputs)\n",
    "        finalout=self.activation_function(finalin)\n",
    "        return finalout\n",
    "    def save(self, path):\n",
    "        obj = dill.dumps(self)\n",
    "        with open(path, \"wb\") as f:\n",
    "            f.write(obj)\n",
    "    def load(path):\n",
    "        try:\n",
    "            with open(path, \"rb\") as f:\n",
    "                obj = dill.load(f)\n",
    "            return obj\n",
    "        except (FileNotFoundError, EOFError, dill.UnpicklingError) as e:\n",
    "            print(f\"Error loading file: {e}\")\n",
    "            return None\n",
    "        "
   ]
  },
  {
   "cell_type": "code",
   "execution_count": 3,
   "id": "b0a2d81c-913e-4a68-ae84-3f35f7bddee7",
   "metadata": {},
   "outputs": [],
   "source": [
    "import\tmatplotlib.pyplot\t\n",
    "%matplotlib inline"
   ]
  },
  {
   "cell_type": "code",
   "execution_count": 4,
   "id": "4f0e850c-24a6-42fe-80d2-80a1f40550cf",
   "metadata": {},
   "outputs": [],
   "source": [
    "data=open(\"mnist_test.csv\")"
   ]
  },
  {
   "cell_type": "code",
   "execution_count": 5,
   "id": "c76aeaba-b127-4bc9-942a-631848101dd9",
   "metadata": {},
   "outputs": [],
   "source": [
    "datas=data.readlines()"
   ]
  },
  {
   "cell_type": "code",
   "execution_count": 6,
   "id": "d3418cfa-4d80-4021-8882-2f4584b3912d",
   "metadata": {},
   "outputs": [],
   "source": [
    "data.close()"
   ]
  },
  {
   "cell_type": "code",
   "execution_count": 7,
   "id": "bf4923bb-af44-4c13-b030-77e7324ffb4e",
   "metadata": {
    "scrolled": true
   },
   "outputs": [
    {
     "data": {
      "image/png": "[encoded data removed]",
      "text/plain": [
       "<Figure size 640x480 with 1 Axes>"
      ]
     },
     "metadata": {},
     "output_type": "display_data"
    }
   ],
   "source": [
    "%matplotlib inline\n",
    "all_values=datas[0].split(',')\n",
    "image_array=np.asfarray(all_values[1:]).reshape((28,28))\n",
    "matplotlib.pyplot.imshow(image_array,cmap='Greys',interpolation='None')\n",
    "matplotlib.pyplot.show()"
   ]
  },
  {
   "cell_type": "code",
   "execution_count": 8,
   "id": "09c75aed-74da-4ec1-9f99-9c37c1a8bbf4",
   "metadata": {},
   "outputs": [
    {
     "name": "stdout",
     "output_type": "stream",
     "text": [
      "[0.01       0.01       0.01       0.01       0.01       0.01\n",
      " 0.01       0.01       0.01       0.01       0.01       0.01\n",
      " 0.01       0.01       0.01       0.01       0.01       0.01\n",
      " 0.01       0.01       0.01       0.01       0.01       0.01\n",
      " 0.01       0.01       0.01       0.01       0.01       0.01\n",
      " 0.01       0.01       0.01       0.01       0.01       0.01\n",
      " 0.01       0.01       0.01       0.01       0.01       0.01\n",
      " 0.01       0.01       0.01       0.01       0.01       0.01\n",
      " 0.01       0.01       0.01       0.01       0.01       0.01\n",
      " 0.01       0.01       0.01       0.01       0.01       0.01\n",
      " 0.01       0.01       0.01       0.01       0.01       0.01\n",
      " 0.01       0.01       0.01       0.01       0.01       0.01\n",
      " 0.01       0.01       0.01       0.01       0.01       0.01\n",
      " 0.01       0.01       0.01       0.01       0.01       0.01\n",
      " 0.01       0.01       0.01       0.01       0.01       0.01\n",
      " 0.01       0.01       0.01       0.01       0.01       0.01\n",
      " 0.01       0.01       0.01       0.01       0.01       0.01\n",
      " 0.01       0.01       0.01       0.01       0.01       0.01\n",
      " 0.01       0.01       0.01       0.01       0.01       0.01\n",
      " 0.01       0.01       0.01       0.01       0.01       0.01\n",
      " 0.01       0.01       0.01       0.01       0.01       0.01\n",
      " 0.01       0.01       0.01       0.01       0.01       0.01\n",
      " 0.01       0.01       0.01       0.01       0.01       0.01\n",
      " 0.01       0.01       0.01       0.01       0.01       0.01\n",
      " 0.01       0.01       0.01       0.01       0.01       0.01\n",
      " 0.01       0.01       0.01       0.01       0.01       0.01\n",
      " 0.01       0.01       0.01       0.01       0.01       0.01\n",
      " 0.01       0.01       0.01       0.01       0.01       0.01\n",
      " 0.01       0.01       0.01       0.01       0.01       0.01\n",
      " 0.01       0.01       0.01       0.01       0.01       0.01\n",
      " 0.01       0.01       0.01       0.01       0.01       0.01\n",
      " 0.01       0.01       0.01       0.01       0.01       0.01\n",
      " 0.01       0.01       0.01       0.01       0.01       0.01\n",
      " 0.01       0.01       0.01       0.01       0.33611765 0.72823529\n",
      " 0.62729412 0.59623529 0.24294118 0.14976471 0.01       0.01\n",
      " 0.01       0.01       0.01       0.01       0.01       0.01\n",
      " 0.01       0.01       0.01       0.01       0.01       0.01\n",
      " 0.01       0.01       0.01       0.01       0.01       0.01\n",
      " 0.01       0.01       0.87188235 0.99611765 0.99611765 0.99611765\n",
      " 0.99611765 0.94564706 0.77870588 0.77870588 0.77870588 0.77870588\n",
      " 0.77870588 0.77870588 0.77870588 0.77870588 0.67       0.21188235\n",
      " 0.01       0.01       0.01       0.01       0.01       0.01\n",
      " 0.01       0.01       0.01       0.01       0.01       0.01\n",
      " 0.27011765 0.45258824 0.28952941 0.45258824 0.64282353 0.89129412\n",
      " 0.99611765 0.88352941 0.99611765 0.99611765 0.99611765 0.98058824\n",
      " 0.89905882 0.99611765 0.99611765 0.55352941 0.01       0.01\n",
      " 0.01       0.01       0.01       0.01       0.01       0.01\n",
      " 0.01       0.01       0.01       0.01       0.01       0.01\n",
      " 0.01       0.01       0.01       0.076      0.26623529 0.06435294\n",
      " 0.27011765 0.27011765 0.27011765 0.23905882 0.09152941 0.92623529\n",
      " 0.99611765 0.42152941 0.01       0.01       0.01       0.01\n",
      " 0.01       0.01       0.01       0.01       0.01       0.01\n",
      " 0.01       0.01       0.01       0.01       0.01       0.01\n",
      " 0.01       0.01       0.01       0.01       0.01       0.01\n",
      " 0.01       0.01       0.33223529 0.99223529 0.82141176 0.07988235\n",
      " 0.01       0.01       0.01       0.01       0.01       0.01\n",
      " 0.01       0.01       0.01       0.01       0.01       0.01\n",
      " 0.01       0.01       0.01       0.01       0.01       0.01\n",
      " 0.01       0.01       0.01       0.01       0.01       0.09541176\n",
      " 0.91458824 1.         0.33223529 0.01       0.01       0.01\n",
      " 0.01       0.01       0.01       0.01       0.01       0.01\n",
      " 0.01       0.01       0.01       0.01       0.01       0.01\n",
      " 0.01       0.01       0.01       0.01       0.01       0.01\n",
      " 0.01       0.01       0.01       0.51082353 0.99611765 0.934\n",
      " 0.18082353 0.01       0.01       0.01       0.01       0.01\n",
      " 0.01       0.01       0.01       0.01       0.01       0.01\n",
      " 0.01       0.01       0.01       0.01       0.01       0.01\n",
      " 0.01       0.01       0.01       0.01       0.01       0.01\n",
      " 0.23905882 0.97670588 0.99611765 0.25070588 0.01       0.01\n",
      " 0.01       0.01       0.01       0.01       0.01       0.01\n",
      " 0.01       0.01       0.01       0.01       0.01       0.01\n",
      " 0.01       0.01       0.01       0.01       0.01       0.01\n",
      " 0.01       0.01       0.01       0.01       0.52635294 0.99611765\n",
      " 0.736      0.02941176 0.01       0.01       0.01       0.01\n",
      " 0.01       0.01       0.01       0.01       0.01       0.01\n",
      " 0.01       0.01       0.01       0.01       0.01       0.01\n",
      " 0.01       0.01       0.01       0.01       0.01       0.01\n",
      " 0.01       0.04494118 0.80588235 0.97282353 0.23517647 0.01\n",
      " 0.01       0.01       0.01       0.01       0.01       0.01\n",
      " 0.01       0.01       0.01       0.01       0.01       0.01\n",
      " 0.01       0.01       0.01       0.01       0.01       0.01\n",
      " 0.01       0.01       0.01       0.01       0.01       0.49917647\n",
      " 0.99611765 0.71658824 0.01       0.01       0.01       0.01\n",
      " 0.01       0.01       0.01       0.01       0.01       0.01\n",
      " 0.01       0.01       0.01       0.01       0.01       0.01\n",
      " 0.01       0.01       0.01       0.01       0.01       0.01\n",
      " 0.01       0.01       0.30117647 0.98447059 0.94176471 0.23129412\n",
      " 0.01       0.01       0.01       0.01       0.01       0.01\n",
      " 0.01       0.01       0.01       0.01       0.01       0.01\n",
      " 0.01       0.01       0.01       0.01       0.01       0.01\n",
      " 0.01       0.01       0.01       0.01       0.01       0.08376471\n",
      " 0.868      0.99611765 0.65447059 0.01       0.01       0.01\n",
      " 0.01       0.01       0.01       0.01       0.01       0.01\n",
      " 0.01       0.01       0.01       0.01       0.01       0.01\n",
      " 0.01       0.01       0.01       0.01       0.01       0.01\n",
      " 0.01       0.01       0.02164706 0.79811765 0.99611765 0.86023529\n",
      " 0.14588235 0.01       0.01       0.01       0.01       0.01\n",
      " 0.01       0.01       0.01       0.01       0.01       0.01\n",
      " 0.01       0.01       0.01       0.01       0.01       0.01\n",
      " 0.01       0.01       0.01       0.01       0.01       0.01\n",
      " 0.15752941 0.99611765 0.99611765 0.30894118 0.01       0.01\n",
      " 0.01       0.01       0.01       0.01       0.01       0.01\n",
      " 0.01       0.01       0.01       0.01       0.01       0.01\n",
      " 0.01       0.01       0.01       0.01       0.01       0.01\n",
      " 0.01       0.01       0.01       0.13035294 0.87964706 0.99611765\n",
      " 0.45647059 0.01388235 0.01       0.01       0.01       0.01\n",
      " 0.01       0.01       0.01       0.01       0.01       0.01\n",
      " 0.01       0.01       0.01       0.01       0.01       0.01\n",
      " 0.01       0.01       0.01       0.01       0.01       0.01\n",
      " 0.01       0.52635294 0.99611765 0.99611765 0.21188235 0.01\n",
      " 0.01       0.01       0.01       0.01       0.01       0.01\n",
      " 0.01       0.01       0.01       0.01       0.01       0.01\n",
      " 0.01       0.01       0.01       0.01       0.01       0.01\n",
      " 0.01       0.01       0.01       0.01       0.24682353 0.94952941\n",
      " 0.99611765 0.99611765 0.21188235 0.01       0.01       0.01\n",
      " 0.01       0.01       0.01       0.01       0.01       0.01\n",
      " 0.01       0.01       0.01       0.01       0.01       0.01\n",
      " 0.01       0.01       0.01       0.01       0.01       0.01\n",
      " 0.01       0.01       0.47976471 0.99611765 0.99611765 0.86023529\n",
      " 0.16529412 0.01       0.01       0.01       0.01       0.01\n",
      " 0.01       0.01       0.01       0.01       0.01       0.01\n",
      " 0.01       0.01       0.01       0.01       0.01       0.01\n",
      " 0.01       0.01       0.01       0.01       0.01       0.01\n",
      " 0.47976471 0.99611765 0.81364706 0.07988235 0.01       0.01\n",
      " 0.01       0.01       0.01       0.01       0.01       0.01\n",
      " 0.01       0.01       0.01       0.01       0.01       0.01\n",
      " 0.01       0.01       0.01       0.01       0.01       0.01\n",
      " 0.01       0.01       0.01       0.01       0.01       0.01\n",
      " 0.01       0.01       0.01       0.01       0.01       0.01\n",
      " 0.01       0.01       0.01       0.01       0.01       0.01\n",
      " 0.01       0.01       0.01       0.01      ]\n"
     ]
    }
   ],
   "source": [
    "scaled_input=(np.asfarray(all_values[1:])/255.0*0.99)+0.01\n",
    "print(scaled_input)"
   ]
  },
  {
   "cell_type": "code",
   "execution_count": 9,
   "id": "b40e5869-9c0d-4438-a471-5fc392eb4b0a",
   "metadata": {},
   "outputs": [],
   "source": [
    "onodes=10\n",
    "targets=np.zeros(onodes)+0.01\n",
    "targets[int(all_values[0])]=0.99"
   ]
  },
  {
   "cell_type": "code",
   "execution_count": 10,
   "id": "61069848-f783-4a06-b34b-4952fa7e8036",
   "metadata": {},
   "outputs": [
    {
     "name": "stdout",
     "output_type": "stream",
     "text": [
      "[0.01 0.01 0.01 0.01 0.01 0.01 0.01 0.99 0.01 0.01]\n"
     ]
    }
   ],
   "source": [
    "print(targets)"
   ]
  },
  {
   "cell_type": "code",
   "execution_count": 11,
   "id": "6475d1fc-3b1e-4090-bbff-000a7ad02290",
   "metadata": {},
   "outputs": [],
   "source": [
    "inn=784\n",
    "inh=200\n",
    "ino=10\n",
    "lr=0.1\n",
    "model=nn(inn,inh,ino,lr)"
   ]
  },
  {
   "cell_type": "code",
   "execution_count": 12,
   "id": "30a58a5a-3e2d-4ca6-a609-af48ed7cfad7",
   "metadata": {},
   "outputs": [
    {
     "name": "stdout",
     "output_type": "stream",
     "text": [
      "0\n",
      "1\n",
      "2\n",
      "3\n",
      "4\n",
      "5\n",
      "6\n"
     ]
    }
   ],
   "source": [
    "epochs = 7\n",
    "trainf=open(\"mnist_train.csv\", 'r')\n",
    "X=trainf.readlines()\n",
    "trainf.close()\n",
    "for e in range(epochs):\n",
    "    for record in X:\n",
    "        all_values=record.split(',')\n",
    "        inputs=(np.asfarray(all_values[1:]) / 255.0 * 0.99) + 0.01\n",
    "        targets=np.zeros(ino) + 0.01\n",
    "        targets[int(all_values[0])] = 0.99\n",
    "        model.train(inputs, targets)\n",
    "        pass\n",
    "    print(e)\n",
    "    pass"
   ]
  },
  {
   "cell_type": "code",
   "execution_count": 13,
   "id": "c49799d0-0955-4fff-b65b-663ecddc2e92",
   "metadata": {},
   "outputs": [],
   "source": [
    "testdata=open(\"mnist_test.csv\", 'r')\n",
    "tdata=testdata.readlines()\n",
    "testdata.close()"
   ]
  },
  {
   "cell_type": "code",
   "execution_count": 14,
   "id": "db219f8b-a7f6-4e13-9518-a96550157654",
   "metadata": {},
   "outputs": [],
   "source": [
    "scorecard = []\n",
    "for record in tdata:\n",
    "    all_values=record.split(',')\n",
    "    correct_label=int(all_values[0])\n",
    "    inputs=(np.asfarray(all_values[1:]) / 255.0 * 0.99) + 0.01\n",
    "    outputs=model.query(inputs)\n",
    "    label=np.argmax(outputs)\n",
    "    if (label==correct_label):\n",
    "        scorecard.append(1)\n",
    "    else:\n",
    "        scorecard.append(0)\n",
    "        pass\n",
    "    pass"
   ]
  },
  {
   "cell_type": "code",
   "execution_count": 15,
   "id": "b02a04e9-09ba-4fc8-a767-4cfb5d068e10",
   "metadata": {},
   "outputs": [
    {
     "name": "stdout",
     "output_type": "stream",
     "text": [
      "performance =  0.9708\n"
     ]
    }
   ],
   "source": [
    "scorecard_array = np.asarray(scorecard)\n",
    "print (\"performance = \", scorecard_array.sum() / scorecard_array.size)"
   ]
  },
  {
   "cell_type": "code",
   "execution_count": 16,
   "id": "4ab1a4dd-dce8-43cb-9f83-0b5fda0805af",
   "metadata": {},
   "outputs": [
    {
     "ename": "AttributeError",
     "evalue": "Can't pickle local object 'nn.__init__.<locals>.<lambda>'",
     "output_type": "error",
     "traceback": [
      "\u001b[1;31m---------------------------------------------------------------------------\u001b[0m",
      "\u001b[1;31mAttributeError\u001b[0m                            Traceback (most recent call last)",
      "Cell \u001b[1;32mIn[16], line 1\u001b[0m\n\u001b[1;32m----> 1\u001b[0m \u001b[43mmodel\u001b[49m\u001b[38;5;241;43m.\u001b[39;49m\u001b[43msave\u001b[49m\u001b[43m(\u001b[49m\u001b[38;5;124;43m\"\u001b[39;49m\u001b[38;5;124;43mthreeminst.model\u001b[39;49m\u001b[38;5;124;43m\"\u001b[39;49m\u001b[43m)\u001b[49m\n",
      "Cell \u001b[1;32mIn[2], line 32\u001b[0m, in \u001b[0;36mnn.save\u001b[1;34m(self, path)\u001b[0m\n\u001b[0;32m     31\u001b[0m \u001b[38;5;28;01mdef\u001b[39;00m \u001b[38;5;21msave\u001b[39m(\u001b[38;5;28mself\u001b[39m,path):\n\u001b[1;32m---> 32\u001b[0m     obj \u001b[38;5;241m=\u001b[39m \u001b[43mpickle\u001b[49m\u001b[38;5;241;43m.\u001b[39;49m\u001b[43mdumps\u001b[49m\u001b[43m(\u001b[49m\u001b[38;5;28;43mself\u001b[39;49m\u001b[43m)\u001b[49m\n\u001b[0;32m     33\u001b[0m     \u001b[38;5;28;01mwith\u001b[39;00m \u001b[38;5;28mopen\u001b[39m(path,\u001b[38;5;124m\"\u001b[39m\u001b[38;5;124mwb\u001b[39m\u001b[38;5;124m\"\u001b[39m) \u001b[38;5;28;01mas\u001b[39;00m f:\n\u001b[0;32m     34\u001b[0m         f\u001b[38;5;241m.\u001b[39mwrite(obj)\n",
      "\u001b[1;31mAttributeError\u001b[0m: Can't pickle local object 'nn.__init__.<locals>.<lambda>'"
     ]
    }
   ],
   "source": [
    "model.save(\"threeminst.model\")"
   ]
  },
  {
   "cell_type": "code",
   "execution_count": null,
   "id": "18da1ed9-c688-4185-96d1-88712aa3d189",
   "metadata": {},
   "outputs": [],
   "source": []
  }
 ],
 "metadata": {
  "kernelspec": {
   "display_name": "Python 3 (ipykernel)",
   "language": "python",
   "name": "python3"
  },
  "language_info": {
   "codemirror_mode": {
    "name": "ipython",
    "version": 3
   },
   "file_extension": ".py",
   "mimetype": "text/x-python",
   "name": "python",
   "nbconvert_exporter": "python",
   "pygments_lexer": "ipython3",
   "version": "3.10.16"
  }
 },
 "nbformat": 4,
 "nbformat_minor": 5
}
